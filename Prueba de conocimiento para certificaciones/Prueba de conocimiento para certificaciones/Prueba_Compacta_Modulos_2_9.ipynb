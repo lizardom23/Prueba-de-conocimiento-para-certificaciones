{
 "cells": [
  {
   "cell_type": "markdown",
   "id": "d6914446",
   "metadata": {},
   "source": [
    "# Prueba Compacta — Un ejercicio por módulo (2 a 9)\n",
    "Resuelve cada ítem debajo en una **celda de código** y, si hace falta, añade una breve explicación en Markdown (máx. 3 líneas)."
   ]
  },
  {
   "cell_type": "markdown",
   "id": "54c90195",
   "metadata": {},
   "source": [
    "## Módulo 2: Variables, Tipos y Operaciones"
   ]
  },
  {
   "cell_type": "markdown",
   "id": "1c0463b4",
   "metadata": {},
   "source": [
    "**2.1 Conversión segura a float**\n",
    "\n",
    "Implementa `to_float_seguro(s)` que reciba un string y retorne `float` manejando estos casos:\n",
    "- Cambia coma decimal por punto si aparece (ej. `'3,14' -> 3.14`).\n",
    "- Si no se puede convertir, retorna `None` en lugar de lanzar excepción.\n",
    "Agrega al menos 4 pruebas rápidas."
   ]
  },
  {
   "cell_type": "code",
   "execution_count": 2,
   "id": "9c7db0c0",
   "metadata": {},
   "outputs": [
    {
     "name": "stdout",
     "output_type": "stream",
     "text": [
      "3.14\n",
      "10.5\n",
      "None\n",
      "7.89\n",
      "None\n",
      "None\n"
     ]
    }
   ],
   "source": [
    "#Respuesta\n",
    "# Función para convertir un string a decimal (float) de manera segura\n",
    "def conversion_a_decimal_con_punto(texto):\n",
    "    # Paso 1: Verificamos que lo que llegue sea string, por si acaso\n",
    "    if not isinstance(texto, str):\n",
    "        return None  # Si no es string, devolvemos None\n",
    "    \n",
    "    # Paso 2: Cambiamos la coma por punto (ej. \"3,14\" -> \"3.14\")\n",
    "    texto = texto.replace(\",\", \".\")\n",
    "    \n",
    "    try:\n",
    "        # Paso 3: Intentamos convertir a float\n",
    "        return float(texto)\n",
    "    except ValueError:\n",
    "        # Paso 4: Si da error (ej. \"hola\"), devolvemos None\n",
    "        return None\n",
    "\n",
    "# ====== PRUEBAS ======\n",
    "print(conversion_a_decimal_con_punto(\"3,14\"))   # Se espera mostrar 3.14 realizando la conversión\n",
    "print(conversion_a_decimal_con_punto(\"10.5\"))   # Se espera mostrar 10.5 porque ya está con punto\n",
    "print(conversion_a_decimal_con_punto(\"hola\"))   # Se espera mostrar None porque no es un número\n",
    "print(conversion_a_decimal_con_punto(\"7,89\"))   # Se espera mostrar 7.89 convirtiendo la coma en punto\n",
    "print(conversion_a_decimal_con_punto(\"\"))       # Se espera mostrar None porque la cadena está vacía\n",
    "print(conversion_a_decimal_con_punto(123))      # Se espera mostrar None porque no es string\n"
   ]
  },
  {
   "cell_type": "markdown",
   "id": "7ac55912",
   "metadata": {},
   "source": [
    "## Módulo 3: Estructuras de Control"
   ]
  },
  {
   "cell_type": "markdown",
   "id": "806a645d",
   "metadata": {},
   "source": [
    "**3.1 Menú simulado con `while`**\n",
    "\n",
    "Simula un flujo de opciones con una lista `entradas = ['1','2','x','q']`. Recorre esa lista con `while` y:\n",
    "- Si la opción es `'1'`, imprime `hola`.\n",
    "- Si es `'2'`, imprime el resultado de `2+2`.\n",
    "- Si es otro valor distinto de `'q'`, imprime `opción inválida`.\n",
    "- Finaliza cuando es `'q'`.\n",
    "No uses `input()` real."
   ]
  },
  {
   "cell_type": "code",
   "execution_count": 3,
   "id": "3ea9169b",
   "metadata": {},
   "outputs": [
    {
     "name": "stdout",
     "output_type": "stream",
     "text": [
      "Procesando opción: 1\n",
      "hola\n",
      "Procesando opción: 2\n",
      "4\n",
      "Procesando opción: x\n",
      "opción inválida\n",
      "Procesando opción: q\n",
      "Saliendo del menú...\n",
      "Programa terminado.\n"
     ]
    }
   ],
   "source": [
    "#Respuesta\n",
    "entradas = ['1', '2', 'x', 'q']\n",
    "\n",
    "# Inicializamos un índice para recorrer la lista\n",
    "i = 0\n",
    "\n",
    "# Usamos un ciclo while para ir leyendo las entradas una por una\n",
    "while i < len(entradas):  \n",
    "    opcion = entradas[i]  # Sacamos la opción actual\n",
    "    print(f\"Procesando opción: {opcion}\")  \n",
    "\n",
    "    # Caso 1: si la opción es '1', saludamos\n",
    "    if opcion == '1':\n",
    "        print(\"hola\")  \n",
    "\n",
    "    # Caso 2: si la opción es '2', hacemos la suma 2+2\n",
    "    elif opcion == '2':\n",
    "        print(2 + 2)  \n",
    "\n",
    "    # Caso 3: si la opción es 'q', significa que hay que salir del menú\n",
    "    elif opcion == 'q':\n",
    "        print(\"Saliendo del menú...\")  \n",
    "        break  # Rompemos el ciclo, porque ya no queremos seguir\n",
    "\n",
    "    # Caso 4: cualquier otra cosa distinta es inválida\n",
    "    else:\n",
    "        print(\"opción inválida\")  \n",
    "\n",
    "    # Avanzamos al siguiente elemento de la lista\n",
    "    i += 1\n",
    "\n",
    "# Cuando se acaba o rompemos el ciclo, llegamos aquí\n",
    "print(\"Programa terminado.\")"
   ]
  },
  {
   "cell_type": "markdown",
   "id": "2055bd77",
   "metadata": {},
   "source": [
    "## Módulo 4: Estructuras de Datos"
   ]
  },
  {
   "cell_type": "markdown",
   "id": "0ccbce29",
   "metadata": {},
   "source": [
    "**4.1 Diccionario de frecuencias (top 5)**\n",
    "\n",
    "Dado `texto = 'Abracadabra, foco y acción'`, construye un **diccionario de frecuencias** de caracteres (ignora espacios) y muestra una lista con los **5** caracteres más frecuentes y su conteo, ordenados de mayor a menor."
   ]
  },
  {
   "cell_type": "code",
   "execution_count": 3,
   "id": "7aa4932a",
   "metadata": {},
   "outputs": [
    {
     "name": "stdout",
     "output_type": "stream",
     "text": [
      "Los 5 caracteres más usados fueron:\n",
      "'r' aparece 6 veces\n",
      "'a' aparece 5 veces\n",
      "'c' aparece 3 veces\n",
      "'o' aparece 3 veces\n",
      "'e' aparece 2 veces\n"
     ]
    }
   ],
   "source": [
    "#Respuesta\n",
    "# Programa para sacar los 5 caracteres más frecuentes en un texto\n",
    "\n",
    "# Texto de ejemplo\n",
    "texto = \"carrera corta de programacion\"\n",
    "\n",
    "# Creamos un diccionario para contar cada caracter\n",
    "conteo = {}\n",
    "for c in texto:\n",
    "    # Ignoramos los espacios para que no salgan en el top\n",
    "    if c == \" \":\n",
    "        continue\n",
    "    # Usamos el método get, que si no existe el caracter le pone 0\n",
    "    conteo[c] = conteo.get(c, 0) + 1\n",
    "\n",
    "# Ahora ordenamos los caracteres por su cantidad, de mayor a menor\n",
    "ordenados = sorted(conteo.items(), key=lambda par: par[1], reverse=True)\n",
    "\n",
    "# Tomamos solo los 5 primeros\n",
    "top_cinco = ordenados[:5]\n",
    "\n",
    "# Mostramos el resultado\n",
    "print(\"Los 5 caracteres más usados fueron:\")\n",
    "for caracter, cantidad in top_cinco:\n",
    "    print(f\"'{caracter}' aparece {cantidad} veces\")"
   ]
  },
  {
   "cell_type": "markdown",
   "id": "31d4dbe0",
   "metadata": {},
   "source": [
    "## Módulo 5: Funciones y Módulos"
   ]
  },
  {
   "cell_type": "markdown",
   "id": "af756102",
   "metadata": {},
   "source": [
    "**5.1 `*args` y parámetro con nombre**\n",
    "\n",
    "Implementa `acumula(*args, operacion='suma')` que:\n",
    "- Si `operacion='suma'`, retorna la suma de todos los `args` numéricos.\n",
    "- Si `operacion='resta'`, retorna el primer valor menos el resto.\n",
    "Incluye al menos 3 pruebas cortas (casos normales y un borde)."
   ]
  },
  {
   "cell_type": "code",
   "execution_count": 5,
   "id": "3f5587b5",
   "metadata": {},
   "outputs": [
    {
     "name": "stdout",
     "output_type": "stream",
     "text": [
      "12\n",
      "5\n",
      "0\n",
      "Operación no válida\n"
     ]
    }
   ],
   "source": [
    "#Respuesta\n",
    "def acumula(*args, operacion='suma'):\n",
    "    \"\"\"\n",
    "    Función que acumula números.\n",
    "    *args  -> cualquier cantidad de números\n",
    "    operacion -> 'suma' o 'resta', por defecto suma\n",
    "    \"\"\"\n",
    "    \n",
    "    # Primero verificamos que haya al menos un número\n",
    "    if len(args) == 0:\n",
    "        return 0  \n",
    "    \n",
    "    # Si la operación es suma\n",
    "    if operacion == 'suma':\n",
    "        resultado = 0  \n",
    "        for numero in args:  \n",
    "            resultado += numero  \n",
    "        return resultado  \n",
    "    \n",
    "    # Si la operación es resta\n",
    "    elif operacion == 'resta':\n",
    "        resultado = args[0]  \n",
    "        for numero in args[1:]:  \n",
    "            resultado -= numero  \n",
    "        return resultado  \n",
    "    \n",
    "    # Si mandaron algo raro en operacion\n",
    "    else:\n",
    "        return \"Operación no válida\"  \n",
    "\n",
    "# -----------------------\n",
    "# Pruebas de la función\n",
    "# -----------------------\n",
    "\n",
    "# 1. Suma normal\n",
    "print(acumula(2, 4, 6))  # 12\n",
    "\n",
    "# 2. Resta normal\n",
    "print(acumula(10, 3, 2, operacion='resta'))  \n",
    "\n",
    "# 3. Caso borde: sin argumentos\n",
    "print(acumula())  \n",
    "\n",
    "# 4. Caso borde: operación inválida\n",
    "print(acumula(1,2,3, operacion='multiplica')) "
   ]
  },
  {
   "cell_type": "markdown",
   "id": "9d95019c",
   "metadata": {},
   "source": [
    "## Módulo 6: Programación Orientada a Objetos (POO)"
   ]
  },
  {
   "cell_type": "markdown",
   "id": "2da25c69",
   "metadata": {},
   "source": [
    "**6.1 Clase mínima con `__init__` y `__str__`**\n",
    "\n",
    "Define una clase `Producto` con atributos `nombre` y `precio`. Implementa `__str__` para que al imprimir una instancia se vea exactamente `Producto(nombre, precio)`. Crea dos instancias y muéstralas."
   ]
  },
  {
   "cell_type": "code",
   "execution_count": 6,
   "id": "8151eb71",
   "metadata": {},
   "outputs": [
    {
     "name": "stdout",
     "output_type": "stream",
     "text": [
      "Producto(Camiseta, 500)\n",
      "Producto(Pantalón, 1200)\n"
     ]
    }
   ],
   "source": [
    "#Respuesta\n",
    "class Producto:\n",
    "    def __init__(self, nombre, precio):\n",
    "        self.nombre = nombre\n",
    "        self.precio = precio\n",
    "\n",
    "    def __str__(self):\n",
    "        return f\"Producto({self.nombre}, {self.precio})\"\n",
    "\n",
    "\n",
    "producto1 = Producto(\"Camiseta\", 500)\n",
    "producto2 = Producto(\"Pantalón\", 1200)\n",
    "\n",
    "print(producto1)  \n",
    "print(producto2) "
   ]
  },
  {
   "cell_type": "markdown",
   "id": "62f60d53",
   "metadata": {},
   "source": [
    "## Módulo 7: Archivos y Automatización"
   ]
  },
  {
   "cell_type": "markdown",
   "id": "7145bd88",
   "metadata": {},
   "source": [
    "**7.1 JSON seguro con fallback de versión**\n",
    "\n",
    "Crea un diccionario de configuración y guárdalo en `config.json` con `indent=2` y UTF-8. Luego, **cárgalo** y verifica que exista la clave `'version'`. Si falta, añade `'version': '1.0'` y vuelve a guardar. Muestra el JSON final por pantalla."
   ]
  },
  {
   "cell_type": "code",
   "execution_count": 7,
   "id": "98a33291",
   "metadata": {},
   "outputs": [
    {
     "name": "stdout",
     "output_type": "stream",
     "text": [
      "JSON final con fallback de versión:\n",
      "{\n",
      "  \"nombre_app\": \"MiApp\",\n",
      "  \"tema\": \"t-mobile\",\n",
      "  \"idioma\": \"es\",\n",
      "  \"version\": \"1.0\"\n",
      "}\n"
     ]
    }
   ],
   "source": [
    "#Respuesta\n",
    "import json  # JSON = formato para guardar datos tipo diccionario\n",
    "\n",
    "# Creamos un diccionario con nuestra configuración inicial\n",
    "config = {\n",
    "    \"nombre_app\": \"MiApp\",   \n",
    "    \"tema\": \"t-mobile\",          \n",
    "    \"idioma\": \"es\"            \n",
    "}\n",
    "\n",
    "# Guardamos el diccionario en un archivo llamado 'config.json'\n",
    "with open(\"config.json\", \"w\", encoding=\"utf-8\") as archivo:\n",
    "    # dump = volcar el diccionario al archivo en formato JSON\n",
    "    json.dump(config, archivo, indent=2, ensure_ascii=False)\n",
    "\n",
    "# Ahora vamos a abrir el archivo para leer lo que guardamos\n",
    "with open(\"config.json\", \"r\", encoding=\"utf-8\") as archivo:\n",
    "    # load = cargar el JSON del archivo y convertirlo en diccionario otra vez\n",
    "    config_leida = json.load(archivo)\n",
    "\n",
    "# Verificamos si la clave 'version' existe en el diccionario\n",
    "if 'version' not in config_leida:\n",
    "    # Si no existe, la agregamos con valor '1.0'\n",
    "    config_leida['version'] = '1.0'\n",
    "\n",
    "    # Guardamos de nuevo el JSON actualizado\n",
    "    with open(\"config.json\", \"w\", encoding=\"utf-8\") as archivo:\n",
    "        json.dump(config_leida, archivo, indent=2, ensure_ascii=False)\n",
    "\n",
    "# Mostramos el JSON final por pantalla\n",
    "print(\"JSON final con fallback de versión:\")\n",
    "print(json.dumps(config_leida, indent=2, ensure_ascii=False))"
   ]
  },
  {
   "cell_type": "markdown",
   "id": "097dc06c",
   "metadata": {},
   "source": [
    "## Módulo 8: Pandas y Matplotlib"
   ]
  },
  {
   "cell_type": "markdown",
   "id": "d30c6fb3",
   "metadata": {},
   "source": [
    "**8.1 Ventas por canal con gráfico**\n",
    "\n",
    "Construye un `DataFrame` con columnas `canal` y `ventas` (al menos 5 filas con 2–3 canales). Calcula ventas totales por canal con `groupby` y genera un gráfico de barras con Matplotlib (etiquetas de ejes y título)."
   ]
  },
  {
   "cell_type": "code",
   "execution_count": 8,
   "id": "f85dc3f4",
   "metadata": {},
   "outputs": [
    {
     "name": "stdout",
     "output_type": "stream",
     "text": [
      "Ventas totales por canal:\n",
      "          canal  ventas\n",
      "0  Distribuidor    3000\n",
      "1        Online    4500\n",
      "2        Tienda    3200\n"
     ]
    },
    {
     "data": {
      "text/plain": [
       "Text(0.5, 0, 'Canal')"
      ]
     },
     "execution_count": 8,
     "metadata": {},
     "output_type": "execute_result"
    },
    {
     "data": {
      "image/png": "[encoded data removed]",
      "text/plain": [
       "<Figure size 800x500 with 1 Axes>"
      ]
     },
     "metadata": {},
     "output_type": "display_data"
    }
   ],
   "source": [
    "#Respuesta\n",
    "# Primero importamos las librerías que vamos a usar\n",
    "import pandas as pd        # Para manejar los datos tipo tabla (DataFrame)\n",
    "import matplotlib.pyplot as plt  # Para hacer los gráficos\n",
    "\n",
    "datos = {\n",
    "    'canal': ['Tienda', 'Online', 'Tienda', 'Online', 'Distribuidor'],\n",
    "    'ventas': [1500, 2000, 1700, 2500, 3000]\n",
    "}\n",
    "\n",
    "df = pd.DataFrame(datos)  \n",
    "\n",
    "# Ahora vamos a sumar las ventas por canal usando groupby\n",
    "ventas_por_canal = df.groupby('canal')['ventas'].sum().reset_index()\n",
    "\n",
    "# Mostramos el resultado para ver si todo está bien\n",
    "print(\"Ventas totales por canal:\")\n",
    "print(ventas_por_canal)\n",
    "\n",
    "# Vamos a hacer el gráfico de barras\n",
    "plt.figure(figsize=(8,5))  # Definimos el tamaño de la figura\n",
    "\n",
    "# Graficamos: canal en el eje X y ventas en el eje Y\n",
    "plt.bar(ventas_por_canal['canal'], ventas_por_canal['ventas'], color='skyblue')\n",
    "\n",
    "# Ponemos título y etiquetas, que el profe vea todo claro\n",
    "plt.title('Ventas Totales por Canal')  \n",
    "plt.xlabel('Canal')  "
   ]
  },
  {
   "cell_type": "markdown",
   "id": "eb18e3f1",
   "metadata": {},
   "source": [
    "## Módulo 9: Automatización Avanzada"
   ]
  },
  {
   "cell_type": "markdown",
   "id": "8aad4b48",
   "metadata": {},
   "source": [
    "**9.1 Comprimir `.txt` con `zipfile`**\n",
    "\n",
    "Crea (si hace falta) 2–3 archivos `.txt` pequeños en el directorio actual y comprímelos en `textos.zip` usando `zipfile`. Al final, **lista** el contenido del zip para verificar."
   ]
  },
  {
   "cell_type": "code",
   "execution_count": 9,
   "id": "fcc8429e",
   "metadata": {},
   "outputs": [
    {
     "name": "stdout",
     "output_type": "stream",
     "text": [
      "archivo1.txt se agregó al zip!\n",
      "archivo2.txt se agregó al zip!\n",
      "archivo3.txt se agregó al zip!\n",
      "\n",
      "Contenido del zip:\n",
      "- archivo1.txt\n",
      "- archivo2.txt\n",
      "- archivo3.txt\n"
     ]
    }
   ],
   "source": [
    "#Respuesta\n",
    "import zipfile\n",
    "import os\n",
    "\n",
    "# Vamos a crear unos archivos de texto pequeñitos, por si no existen\n",
    "archivos = [\"archivo1.txt\", \"archivo2.txt\", \"archivo3.txt\"]\n",
    "\n",
    "for nombre in archivos:\n",
    "    # Revisamos si el archivo ya existe, pa no sobreescribir nada\n",
    "    if not os.path.exists(nombre):\n",
    "        # Abrimos el archivo en modo escritura\n",
    "        with open(nombre, \"w\") as f:\n",
    "            f.write(f\"Hola, este es el contenido de {nombre}\\n\")\n",
    "            f.write(\"Esto es solo para practicar Python y zipfile.\\n\")\n",
    "\n",
    "# Ahora vamos a crear el zip y agregar los archivos\n",
    "with zipfile.ZipFile(\"textos.zip\", \"w\") as mi_zip:\n",
    "    for nombre in archivos:\n",
    "        # Agregamos el archivo al zip\n",
    "        mi_zip.write(nombre)\n",
    "        print(f\"{nombre} se agregó al zip!\")\n",
    "\n",
    "with zipfile.ZipFile(\"textos.zip\", \"r\") as mi_zip:\n",
    "    print(\"\\nContenido del zip:\")\n",
    "    for info in mi_zip.infolist():\n",
    "        print(f\"- {info.filename}\")"
   ]
  }
 ],
 "metadata": {
  "kernelspec": {
   "display_name": "base",
   "language": "python",
   "name": "python3"
  },
  "language_info": {
   "codemirror_mode": {
    "name": "ipython",
    "version": 3
   },
   "file_extension": ".py",
   "mimetype": "text/x-python",
   "name": "python",
   "nbconvert_exporter": "python",
   "pygments_lexer": "ipython3",
   "version": "3.13.5"
  }
 },
 "nbformat": 4,
 "nbformat_minor": 5
}
